{
 "cells": [
  {
   "cell_type": "markdown",
   "id": "1424f51e",
   "metadata": {},
   "source": [
    "## T01. Estructura de dades"
   ]
  },
  {
   "cell_type": "markdown",
   "id": "8308165d",
   "metadata": {},
   "source": [
    "### EXERCICI 1"
   ]
  },
  {
   "cell_type": "markdown",
   "id": "3585f1ec",
   "metadata": {},
   "source": [
    "Per agrupar els mesos de l'any en trimestres creo una llista amb 4 diccionaris, un per trimestre. Per tenir diferents valors per cada clau del diccionari, faig servir una llista dins de cada diccionari"
   ]
  },
  {
   "cell_type": "code",
   "execution_count": 18,
   "id": "a316c0d8",
   "metadata": {
    "ExecuteTime": {
     "end_time": "2022-01-27T10:30:33.942666Z",
     "start_time": "2022-01-27T10:30:33.931405Z"
    }
   },
   "outputs": [],
   "source": [
    "mesos_any = [{\"1T\": [\"Gener\", \"Febrer\", \"Març\"]}, {\"2T\": [\"Abril\", \"Maig\",\"Juny\"]}, \n",
    "             {\"3T\": [\"Juliol\", \"Agost\", \"Setembre\"]}, {\"4T\": [\"Octubre\", \"Novembre\", \"Desembre\"]} ]"
   ]
  },
  {
   "cell_type": "code",
   "execution_count": 19,
   "id": "bd210e3b",
   "metadata": {
    "ExecuteTime": {
     "end_time": "2022-01-27T10:30:33.958105Z",
     "start_time": "2022-01-27T10:30:33.943661Z"
    }
   },
   "outputs": [
    {
     "data": {
      "text/plain": [
       "[{'1T': ['Gener', 'Febrer', 'Març']},\n",
       " {'2T': ['Abril', 'Maig', 'Juny']},\n",
       " {'3T': ['Juliol', 'Agost', 'Setembre']},\n",
       " {'4T': ['Octubre', 'Novembre', 'Desembre']}]"
      ]
     },
     "execution_count": 19,
     "metadata": {},
     "output_type": "execute_result"
    }
   ],
   "source": [
    "mesos_any"
   ]
  },
  {
   "cell_type": "markdown",
   "id": "54397455",
   "metadata": {},
   "source": [
    "***"
   ]
  },
  {
   "cell_type": "markdown",
   "id": "94fbe81b",
   "metadata": {},
   "source": [
    "### EXERCICI 2"
   ]
  },
  {
   "cell_type": "markdown",
   "id": "41a82ff6",
   "metadata": {},
   "source": [
    "* Accedir al segon mes del primer trimestre: "
   ]
  },
  {
   "cell_type": "markdown",
   "id": "2ee3a1a6",
   "metadata": {},
   "source": [
    "Primer hem d'accedir al primer element de la llista (índex 0), en aquest cas com es un diccionari haurem de fer referència a la clau \"1T\", que conté una altra llista. Llavors per accedir al segon valor d'aquesta llista fem referència al seu índex."
   ]
  },
  {
   "cell_type": "code",
   "execution_count": 20,
   "id": "4e56cae2",
   "metadata": {
    "ExecuteTime": {
     "end_time": "2022-01-27T10:30:33.974136Z",
     "start_time": "2022-01-27T10:30:33.959099Z"
    }
   },
   "outputs": [
    {
     "data": {
      "text/plain": [
       "'Febrer'"
      ]
     },
     "execution_count": 20,
     "metadata": {},
     "output_type": "execute_result"
    }
   ],
   "source": [
    "mesos_any[0][\"1T\"][1]"
   ]
  },
  {
   "cell_type": "markdown",
   "id": "99cb0479",
   "metadata": {},
   "source": [
    "* Accedir als mesos del primer trimestre: "
   ]
  },
  {
   "cell_type": "markdown",
   "id": "719772b2",
   "metadata": {},
   "source": [
    "En aquest cas haurem d´accedir al primer diccionari de la llista (index 0)"
   ]
  },
  {
   "cell_type": "code",
   "execution_count": 21,
   "id": "2a8311bd",
   "metadata": {
    "ExecuteTime": {
     "end_time": "2022-01-27T10:30:33.990029Z",
     "start_time": "2022-01-27T10:30:33.976105Z"
    }
   },
   "outputs": [
    {
     "data": {
      "text/plain": [
       "{'1T': ['Gener', 'Febrer', 'Març']}"
      ]
     },
     "execution_count": 21,
     "metadata": {},
     "output_type": "execute_result"
    }
   ],
   "source": [
    "mesos_any[0]"
   ]
  },
  {
   "cell_type": "markdown",
   "id": "b3d08ebb",
   "metadata": {},
   "source": [
    "Si volem imprimir només la llista amb els mesos, podem cridar els valors del diccionari mitjançant el nom de la clau"
   ]
  },
  {
   "cell_type": "code",
   "execution_count": 22,
   "id": "98ffe1cd",
   "metadata": {
    "ExecuteTime": {
     "end_time": "2022-01-27T10:30:34.005724Z",
     "start_time": "2022-01-27T10:30:33.990571Z"
    }
   },
   "outputs": [
    {
     "data": {
      "text/plain": [
       "['Gener', 'Febrer', 'Març']"
      ]
     },
     "execution_count": 22,
     "metadata": {},
     "output_type": "execute_result"
    }
   ],
   "source": [
    "mesos_any[0][\"1T\"]"
   ]
  },
  {
   "cell_type": "markdown",
   "id": "379cc2f9",
   "metadata": {},
   "source": [
    "* Per accedir als mesos de Setembre i Octubre, sabent que pertanyen a diferents trimestres, podem fer: "
   ]
  },
  {
   "cell_type": "code",
   "execution_count": 23,
   "id": "48c90d66",
   "metadata": {
    "ExecuteTime": {
     "end_time": "2022-01-27T10:30:34.021843Z",
     "start_time": "2022-01-27T10:30:34.006885Z"
    }
   },
   "outputs": [
    {
     "data": {
      "text/plain": [
       "('Setembre', 'Octubre')"
      ]
     },
     "execution_count": 23,
     "metadata": {},
     "output_type": "execute_result"
    }
   ],
   "source": [
    "setembre = mesos_any[2][\"3T\"][2] \n",
    "octubre = mesos_any[3][\"4T\"][0]\n",
    "setembre, octubre"
   ]
  },
  {
   "cell_type": "markdown",
   "id": "eb4c46dd",
   "metadata": {},
   "source": [
    "***"
   ]
  },
  {
   "cell_type": "markdown",
   "id": "41ee6773",
   "metadata": {},
   "source": [
    "### EXERCICI 3"
   ]
  },
  {
   "cell_type": "markdown",
   "id": "d6848d30",
   "metadata": {},
   "source": [
    "Crearem una llista de 10 números aleatoris del 1 al 10 mitajançant el mòdul random. Anirem afegint els números generats a una llista amb un bucle for. "
   ]
  },
  {
   "cell_type": "code",
   "execution_count": 24,
   "id": "c605d143",
   "metadata": {
    "ExecuteTime": {
     "end_time": "2022-01-27T10:30:34.037215Z",
     "start_time": "2022-01-27T10:30:34.023029Z"
    }
   },
   "outputs": [
    {
     "name": "stdout",
     "output_type": "stream",
     "text": [
      "[1, 4, 7, 4, 10, 3, 8, 10, 7, 4]\n"
     ]
    }
   ],
   "source": [
    "import random\n",
    "numbers = []\n",
    "\n",
    "for i in range(10): \n",
    "    number = random.randint(1,10)\n",
    "    numbers.append(number)\n",
    "print(numbers)"
   ]
  },
  {
   "cell_type": "markdown",
   "id": "6771150d",
   "metadata": {},
   "source": [
    "* Per saber el nombre d'elements fem servir la funció len(), en aquest cas veiem que hi ha **10** nombres"
   ]
  },
  {
   "cell_type": "code",
   "execution_count": 25,
   "id": "ae4b4923",
   "metadata": {
    "ExecuteTime": {
     "end_time": "2022-01-27T10:30:34.052801Z",
     "start_time": "2022-01-27T10:30:34.038217Z"
    }
   },
   "outputs": [
    {
     "data": {
      "text/plain": [
       "10"
      ]
     },
     "execution_count": 25,
     "metadata": {},
     "output_type": "execute_result"
    }
   ],
   "source": [
    "len(numbers)"
   ]
  },
  {
   "cell_type": "markdown",
   "id": "6cc046c5",
   "metadata": {},
   "source": [
    "* Busquem cuantes vegades apareix el número 3 amb la funció count(): "
   ]
  },
  {
   "cell_type": "code",
   "execution_count": 26,
   "id": "fd967f12",
   "metadata": {
    "ExecuteTime": {
     "end_time": "2022-01-27T10:30:34.068918Z",
     "start_time": "2022-01-27T10:30:34.053807Z"
    }
   },
   "outputs": [
    {
     "name": "stdout",
     "output_type": "stream",
     "text": [
      "El nombre 3 aparaeix 1 vegades.\n"
     ]
    }
   ],
   "source": [
    "count = numbers.count(3)\n",
    "print(\"El nombre 3 aparaeix\", count,\"vegades.\")"
   ]
  },
  {
   "cell_type": "markdown",
   "id": "833b898f",
   "metadata": {},
   "source": [
    "* També amb count() busquem quantes vegades apareixen 3 i 4: "
   ]
  },
  {
   "cell_type": "code",
   "execution_count": 27,
   "id": "511cf95e",
   "metadata": {
    "ExecuteTime": {
     "end_time": "2022-01-27T10:30:34.083921Z",
     "start_time": "2022-01-27T10:30:34.071015Z"
    }
   },
   "outputs": [
    {
     "name": "stdout",
     "output_type": "stream",
     "text": [
      "Els nombres 3 i 4 apareixen 4 vegades.\n"
     ]
    }
   ],
   "source": [
    "number3 = numbers.count(3)\n",
    "number4 = numbers.count(4)\n",
    "total = number3 + number4\n",
    "print(\"Els nombres 3 i 4 apareixen\",total,\"vegades.\")"
   ]
  },
  {
   "cell_type": "markdown",
   "id": "0c97b264",
   "metadata": {},
   "source": [
    "* Per saber el nombre més gran, podem fer servir la funcio max(): "
   ]
  },
  {
   "cell_type": "code",
   "execution_count": 28,
   "id": "4a5f66f7",
   "metadata": {
    "ExecuteTime": {
     "end_time": "2022-01-27T10:30:34.100195Z",
     "start_time": "2022-01-27T10:30:34.085494Z"
    }
   },
   "outputs": [
    {
     "data": {
      "text/plain": [
       "10"
      ]
     },
     "execution_count": 28,
     "metadata": {},
     "output_type": "execute_result"
    }
   ],
   "source": [
    "max(numbers)"
   ]
  },
  {
   "cell_type": "markdown",
   "id": "38f7bf5c",
   "metadata": {},
   "source": [
    "* Per saber els tres números més petits podem ordenar la llista amb sort() i cridar els nombres fent servir el índex: "
   ]
  },
  {
   "cell_type": "code",
   "execution_count": 29,
   "id": "93767497",
   "metadata": {
    "ExecuteTime": {
     "end_time": "2022-01-27T10:30:34.115107Z",
     "start_time": "2022-01-27T10:30:34.102218Z"
    }
   },
   "outputs": [
    {
     "data": {
      "text/plain": [
       "[1, 3, 4]"
      ]
     },
     "execution_count": 29,
     "metadata": {},
     "output_type": "execute_result"
    }
   ],
   "source": [
    "numbers.sort()\n",
    "numbers[:3]"
   ]
  },
  {
   "cell_type": "markdown",
   "id": "26ee9c69",
   "metadata": {},
   "source": [
    "* Per saber el rang d' una llista podem calcular la diferència entre el nombre més gran i el més petit amb les funcions max() i min():"
   ]
  },
  {
   "cell_type": "code",
   "execution_count": 30,
   "id": "85693e93",
   "metadata": {
    "ExecuteTime": {
     "end_time": "2022-01-27T10:30:34.130731Z",
     "start_time": "2022-01-27T10:30:34.118077Z"
    }
   },
   "outputs": [
    {
     "name": "stdout",
     "output_type": "stream",
     "text": [
      "El rang de la llista numbers es 9\n"
     ]
    }
   ],
   "source": [
    "range_numbers = max(numbers) - min(numbers)\n",
    "print(\"El rang de la llista numbers es\", range_numbers)"
   ]
  },
  {
   "cell_type": "markdown",
   "id": "00f89d5f",
   "metadata": {},
   "source": [
    "***"
   ]
  },
  {
   "cell_type": "markdown",
   "id": "227d269d",
   "metadata": {},
   "source": [
    "### EXERCICI 4"
   ]
  },
  {
   "cell_type": "code",
   "execution_count": 31,
   "id": "8e4999d5",
   "metadata": {
    "ExecuteTime": {
     "end_time": "2022-01-27T10:30:34.145992Z",
     "start_time": "2022-01-27T10:30:34.132861Z"
    }
   },
   "outputs": [],
   "source": [
    "compra = { \"Pomes\" : {\"Qty\": 5, \"€\": 0.42}, \"Peres\" : {\"Qty\": 3, \"€\": 0.66} }"
   ]
  },
  {
   "cell_type": "markdown",
   "id": "7972b6d2",
   "metadata": {},
   "source": [
    "* Afegeix alguna fruita més: "
   ]
  },
  {
   "cell_type": "code",
   "execution_count": 32,
   "id": "62a56dfb",
   "metadata": {
    "ExecuteTime": {
     "end_time": "2022-01-27T10:30:34.160993Z",
     "start_time": "2022-01-27T10:30:34.147955Z"
    }
   },
   "outputs": [
    {
     "data": {
      "text/plain": [
       "{'Pomes': {'Qty': 5, '€': 0.42},\n",
       " 'Peres': {'Qty': 3, '€': 0.66},\n",
       " 'Taronjes': {'Qty': 4, '€': 0.85}}"
      ]
     },
     "execution_count": 32,
     "metadata": {},
     "output_type": "execute_result"
    }
   ],
   "source": [
    "compra[\"Taronjes\"] = {\"Qty\" : 4, \"€\": 0.85}\n",
    "compra"
   ]
  },
  {
   "cell_type": "markdown",
   "id": "281e2175",
   "metadata": {},
   "source": [
    "* Per saber quant han costat les peres, **si suposem que el preu es per valor unitari**, podem fer: "
   ]
  },
  {
   "cell_type": "code",
   "execution_count": 33,
   "id": "d2d6e592",
   "metadata": {
    "ExecuteTime": {
     "end_time": "2022-01-27T10:30:34.176517Z",
     "start_time": "2022-01-27T10:30:34.161994Z"
    }
   },
   "outputs": [
    {
     "name": "stdout",
     "output_type": "stream",
     "text": [
      "El cost de les peres ha sigut de 1.98 €.\n"
     ]
    }
   ],
   "source": [
    "quantity = compra[\"Peres\"].get(\"Qty\")\n",
    "price = compra[\"Peres\"].get(\"€\")\n",
    "cost = price * quantity\n",
    "print(\"El cost de les peres ha sigut de\" , cost, \"€.\")"
   ]
  },
  {
   "cell_type": "markdown",
   "id": "f5512681",
   "metadata": {},
   "source": [
    "* Per saber quantes fruites hem comprat en total podem fer un bucle for per accedir a cada quantitat i sumar totes les quantitats: "
   ]
  },
  {
   "cell_type": "code",
   "execution_count": 34,
   "id": "e6e21e10",
   "metadata": {
    "ExecuteTime": {
     "end_time": "2022-01-27T10:30:34.192427Z",
     "start_time": "2022-01-27T10:30:34.177507Z"
    }
   },
   "outputs": [
    {
     "name": "stdout",
     "output_type": "stream",
     "text": [
      "En total s'han comprat 12 fruites.\n"
     ]
    }
   ],
   "source": [
    "total_quantity = 0\n",
    "for values, keys in compra.items(): \n",
    "    quantity = compra[values].get(\"Qty\")\n",
    "    total_quantity = total_quantity + quantity \n",
    "print(\"En total s'han comprat\", total_quantity, \"fruites.\")"
   ]
  },
  {
   "cell_type": "markdown",
   "id": "98a52dbe",
   "metadata": {},
   "source": [
    "* Per saber quina es la fruita més cara, podem afegir els preus en una llista i treure el valor màxim. Per fer-ho, farem una iteració amb un bucle for: "
   ]
  },
  {
   "cell_type": "code",
   "execution_count": 35,
   "id": "62e8b888",
   "metadata": {
    "ExecuteTime": {
     "end_time": "2022-01-27T10:30:34.207601Z",
     "start_time": "2022-01-27T10:30:34.193628Z"
    }
   },
   "outputs": [
    {
     "data": {
      "text/plain": [
       "0.85"
      ]
     },
     "execution_count": 35,
     "metadata": {},
     "output_type": "execute_result"
    }
   ],
   "source": [
    "price_list = []\n",
    "for values, keys in compra.items(): \n",
    "    price = compra[values].get(\"€\")\n",
    "    price_list.append(price)\n",
    "max(price_list)"
   ]
  },
  {
   "cell_type": "markdown",
   "id": "c095514b",
   "metadata": {},
   "source": [
    "El resultat ens diu que el preu més gran és 0.85 €, per veure a quina fruita correspon aquest valor podem convertir el diccionari en un dataframe mitjançant el mòdul pandas "
   ]
  },
  {
   "cell_type": "code",
   "execution_count": 36,
   "id": "fe0e4672",
   "metadata": {
    "ExecuteTime": {
     "end_time": "2022-01-27T10:30:34.627612Z",
     "start_time": "2022-01-27T10:30:34.208572Z"
    }
   },
   "outputs": [
    {
     "data": {
      "text/html": [
       "<div>\n",
       "<style scoped>\n",
       "    .dataframe tbody tr th:only-of-type {\n",
       "        vertical-align: middle;\n",
       "    }\n",
       "\n",
       "    .dataframe tbody tr th {\n",
       "        vertical-align: top;\n",
       "    }\n",
       "\n",
       "    .dataframe thead th {\n",
       "        text-align: right;\n",
       "    }\n",
       "</style>\n",
       "<table border=\"1\" class=\"dataframe\">\n",
       "  <thead>\n",
       "    <tr style=\"text-align: right;\">\n",
       "      <th></th>\n",
       "      <th>Pomes</th>\n",
       "      <th>Peres</th>\n",
       "      <th>Taronjes</th>\n",
       "    </tr>\n",
       "  </thead>\n",
       "  <tbody>\n",
       "    <tr>\n",
       "      <th>Qty</th>\n",
       "      <td>5.00</td>\n",
       "      <td>3.00</td>\n",
       "      <td>4.00</td>\n",
       "    </tr>\n",
       "    <tr>\n",
       "      <th>€</th>\n",
       "      <td>0.42</td>\n",
       "      <td>0.66</td>\n",
       "      <td>0.85</td>\n",
       "    </tr>\n",
       "  </tbody>\n",
       "</table>\n",
       "</div>"
      ],
      "text/plain": [
       "     Pomes  Peres  Taronjes\n",
       "Qty   5.00   3.00      4.00\n",
       "€     0.42   0.66      0.85"
      ]
     },
     "execution_count": 36,
     "metadata": {},
     "output_type": "execute_result"
    }
   ],
   "source": [
    "import pandas as pd\n",
    "import numpy as np\n",
    "compra_df = pd.DataFrame(compra)\n",
    "compra_df"
   ]
  },
  {
   "cell_type": "markdown",
   "id": "4ef245f3",
   "metadata": {},
   "source": [
    "Ara, mitjançcant el mòdul numpy i la funció where() podem localitzar el nom de la columna que conté aquest valor i saber el nom de la fruita a la que correspon: "
   ]
  },
  {
   "cell_type": "code",
   "execution_count": 37,
   "id": "1d6c5def",
   "metadata": {
    "ExecuteTime": {
     "end_time": "2022-01-27T10:30:34.643349Z",
     "start_time": "2022-01-27T10:30:34.628204Z"
    }
   },
   "outputs": [
    {
     "data": {
      "text/html": [
       "<div>\n",
       "<style scoped>\n",
       "    .dataframe tbody tr th:only-of-type {\n",
       "        vertical-align: middle;\n",
       "    }\n",
       "\n",
       "    .dataframe tbody tr th {\n",
       "        vertical-align: top;\n",
       "    }\n",
       "\n",
       "    .dataframe thead th {\n",
       "        text-align: right;\n",
       "    }\n",
       "</style>\n",
       "<table border=\"1\" class=\"dataframe\">\n",
       "  <thead>\n",
       "    <tr style=\"text-align: right;\">\n",
       "      <th></th>\n",
       "      <th>Taronjes</th>\n",
       "    </tr>\n",
       "  </thead>\n",
       "  <tbody>\n",
       "    <tr>\n",
       "      <th>€</th>\n",
       "      <td>0.85</td>\n",
       "    </tr>\n",
       "  </tbody>\n",
       "</table>\n",
       "</div>"
      ],
      "text/plain": [
       "   Taronjes\n",
       "€      0.85"
      ]
     },
     "execution_count": 37,
     "metadata": {},
     "output_type": "execute_result"
    }
   ],
   "source": [
    "compra_df.iloc[np.where(compra_df == 0.85)]"
   ]
  },
  {
   "cell_type": "markdown",
   "id": "78ff69be",
   "metadata": {},
   "source": [
    "Aixó ens diu que la fruita més cara són les taronjes. "
   ]
  }
 ],
 "metadata": {
  "kernelspec": {
   "display_name": "Python 3 (ipykernel)",
   "language": "python",
   "name": "python3"
  },
  "language_info": {
   "codemirror_mode": {
    "name": "ipython",
    "version": 3
   },
   "file_extension": ".py",
   "mimetype": "text/x-python",
   "name": "python",
   "nbconvert_exporter": "python",
   "pygments_lexer": "ipython3",
   "version": "3.9.7"
  }
 },
 "nbformat": 4,
 "nbformat_minor": 5
}
